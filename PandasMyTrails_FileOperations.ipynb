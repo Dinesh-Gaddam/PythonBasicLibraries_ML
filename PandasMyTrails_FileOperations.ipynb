{
 "cells": [
  {
   "cell_type": "code",
   "execution_count": 1,
   "metadata": {
    "collapsed": true
   },
   "outputs": [],
   "source": [
    "import pandas as pd"
   ]
  },
  {
   "cell_type": "code",
   "execution_count": 2,
   "metadata": {
    "collapsed": true
   },
   "outputs": [],
   "source": [
    "csvfile = pd.read_csv('example')"
   ]
  },
  {
   "cell_type": "code",
   "execution_count": 3,
   "metadata": {},
   "outputs": [
    {
     "data": {
      "text/html": [
       "<div>\n",
       "<style>\n",
       "    .dataframe thead tr:only-child th {\n",
       "        text-align: right;\n",
       "    }\n",
       "\n",
       "    .dataframe thead th {\n",
       "        text-align: left;\n",
       "    }\n",
       "\n",
       "    .dataframe tbody tr th {\n",
       "        vertical-align: top;\n",
       "    }\n",
       "</style>\n",
       "<table border=\"1\" class=\"dataframe\">\n",
       "  <thead>\n",
       "    <tr style=\"text-align: right;\">\n",
       "      <th></th>\n",
       "      <th>a</th>\n",
       "      <th>b</th>\n",
       "      <th>c</th>\n",
       "      <th>d</th>\n",
       "    </tr>\n",
       "  </thead>\n",
       "  <tbody>\n",
       "    <tr>\n",
       "      <th>0</th>\n",
       "      <td>0</td>\n",
       "      <td>1</td>\n",
       "      <td>2</td>\n",
       "      <td>3</td>\n",
       "    </tr>\n",
       "    <tr>\n",
       "      <th>1</th>\n",
       "      <td>4</td>\n",
       "      <td>5</td>\n",
       "      <td>6</td>\n",
       "      <td>7</td>\n",
       "    </tr>\n",
       "    <tr>\n",
       "      <th>2</th>\n",
       "      <td>8</td>\n",
       "      <td>9</td>\n",
       "      <td>10</td>\n",
       "      <td>11</td>\n",
       "    </tr>\n",
       "    <tr>\n",
       "      <th>3</th>\n",
       "      <td>12</td>\n",
       "      <td>13</td>\n",
       "      <td>14</td>\n",
       "      <td>15</td>\n",
       "    </tr>\n",
       "  </tbody>\n",
       "</table>\n",
       "</div>"
      ],
      "text/plain": [
       "    a   b   c   d\n",
       "0   0   1   2   3\n",
       "1   4   5   6   7\n",
       "2   8   9  10  11\n",
       "3  12  13  14  15"
      ]
     },
     "execution_count": 3,
     "metadata": {},
     "output_type": "execute_result"
    }
   ],
   "source": [
    "csvfile"
   ]
  },
  {
   "cell_type": "code",
   "execution_count": 5,
   "metadata": {},
   "outputs": [],
   "source": [
    "csvfile.to_csv('My_ouput',index=False)"
   ]
  },
  {
   "cell_type": "code",
   "execution_count": 6,
   "metadata": {},
   "outputs": [
    {
     "data": {
      "text/html": [
       "<div>\n",
       "<style>\n",
       "    .dataframe thead tr:only-child th {\n",
       "        text-align: right;\n",
       "    }\n",
       "\n",
       "    .dataframe thead th {\n",
       "        text-align: left;\n",
       "    }\n",
       "\n",
       "    .dataframe tbody tr th {\n",
       "        vertical-align: top;\n",
       "    }\n",
       "</style>\n",
       "<table border=\"1\" class=\"dataframe\">\n",
       "  <thead>\n",
       "    <tr style=\"text-align: right;\">\n",
       "      <th></th>\n",
       "      <th>a</th>\n",
       "      <th>b</th>\n",
       "      <th>c</th>\n",
       "      <th>d</th>\n",
       "    </tr>\n",
       "  </thead>\n",
       "  <tbody>\n",
       "    <tr>\n",
       "      <th>0</th>\n",
       "      <td>0</td>\n",
       "      <td>1</td>\n",
       "      <td>2</td>\n",
       "      <td>3</td>\n",
       "    </tr>\n",
       "    <tr>\n",
       "      <th>1</th>\n",
       "      <td>4</td>\n",
       "      <td>5</td>\n",
       "      <td>6</td>\n",
       "      <td>7</td>\n",
       "    </tr>\n",
       "    <tr>\n",
       "      <th>2</th>\n",
       "      <td>8</td>\n",
       "      <td>9</td>\n",
       "      <td>10</td>\n",
       "      <td>11</td>\n",
       "    </tr>\n",
       "    <tr>\n",
       "      <th>3</th>\n",
       "      <td>12</td>\n",
       "      <td>13</td>\n",
       "      <td>14</td>\n",
       "      <td>15</td>\n",
       "    </tr>\n",
       "  </tbody>\n",
       "</table>\n",
       "</div>"
      ],
      "text/plain": [
       "    a   b   c   d\n",
       "0   0   1   2   3\n",
       "1   4   5   6   7\n",
       "2   8   9  10  11\n",
       "3  12  13  14  15"
      ]
     },
     "execution_count": 6,
     "metadata": {},
     "output_type": "execute_result"
    }
   ],
   "source": [
    "pd.read_csv('My_ouput')"
   ]
  },
  {
   "cell_type": "code",
   "execution_count": 7,
   "metadata": {
    "collapsed": true
   },
   "outputs": [],
   "source": [
    "excelfile = pd.read_excel('Excel_Sample.xlsx',sheetname='Sheet1') # can't read the formulas only "
   ]
  },
  {
   "cell_type": "code",
   "execution_count": 8,
   "metadata": {},
   "outputs": [
    {
     "data": {
      "text/html": [
       "<div>\n",
       "<style>\n",
       "    .dataframe thead tr:only-child th {\n",
       "        text-align: right;\n",
       "    }\n",
       "\n",
       "    .dataframe thead th {\n",
       "        text-align: left;\n",
       "    }\n",
       "\n",
       "    .dataframe tbody tr th {\n",
       "        vertical-align: top;\n",
       "    }\n",
       "</style>\n",
       "<table border=\"1\" class=\"dataframe\">\n",
       "  <thead>\n",
       "    <tr style=\"text-align: right;\">\n",
       "      <th></th>\n",
       "      <th>a</th>\n",
       "      <th>b</th>\n",
       "      <th>c</th>\n",
       "      <th>d</th>\n",
       "    </tr>\n",
       "  </thead>\n",
       "  <tbody>\n",
       "    <tr>\n",
       "      <th>0</th>\n",
       "      <td>0</td>\n",
       "      <td>1</td>\n",
       "      <td>2</td>\n",
       "      <td>3</td>\n",
       "    </tr>\n",
       "    <tr>\n",
       "      <th>1</th>\n",
       "      <td>4</td>\n",
       "      <td>5</td>\n",
       "      <td>6</td>\n",
       "      <td>7</td>\n",
       "    </tr>\n",
       "    <tr>\n",
       "      <th>2</th>\n",
       "      <td>8</td>\n",
       "      <td>9</td>\n",
       "      <td>10</td>\n",
       "      <td>11</td>\n",
       "    </tr>\n",
       "    <tr>\n",
       "      <th>3</th>\n",
       "      <td>12</td>\n",
       "      <td>13</td>\n",
       "      <td>14</td>\n",
       "      <td>15</td>\n",
       "    </tr>\n",
       "  </tbody>\n",
       "</table>\n",
       "</div>"
      ],
      "text/plain": [
       "    a   b   c   d\n",
       "0   0   1   2   3\n",
       "1   4   5   6   7\n",
       "2   8   9  10  11\n",
       "3  12  13  14  15"
      ]
     },
     "execution_count": 8,
     "metadata": {},
     "output_type": "execute_result"
    }
   ],
   "source": [
    "excelfile"
   ]
  },
  {
   "cell_type": "code",
   "execution_count": 9,
   "metadata": {
    "collapsed": true
   },
   "outputs": [],
   "source": [
    "htmldf = pd.read_html('http://www.fdic.gov/bank/individual/failed/banklist.html')"
   ]
  },
  {
   "cell_type": "code",
   "execution_count": 10,
   "metadata": {},
   "outputs": [
    {
     "data": {
      "text/plain": [
       "[                                             Bank Name                City  \\\n",
       " 0                                 The First State Bank       Barboursville   \n",
       " 1                                   Ericson State Bank             Ericson   \n",
       " 2                     City National Bank of New Jersey              Newark   \n",
       " 3                                        Resolute Bank              Maumee   \n",
       " 4                                Louisa Community Bank              Louisa   \n",
       " 5                                 The Enloe State Bank              Cooper   \n",
       " 6                  Washington Federal Bank for Savings             Chicago   \n",
       " 7      The Farmers and Merchants State Bank of Argonia             Argonia   \n",
       " 8                                  Fayette County Bank          Saint Elmo   \n",
       " 9    Guaranty Bank, (d/b/a BestBank in Georgia & Mi...           Milwaukee   \n",
       " 10                                      First NBC Bank         New Orleans   \n",
       " 11                                       Proficio Bank  Cottonwood Heights   \n",
       " 12                       Seaway Bank and Trust Company             Chicago   \n",
       " 13                              Harvest Community Bank          Pennsville   \n",
       " 14                                         Allied Bank            Mulberry   \n",
       " 15                        The Woodbury Banking Company            Woodbury   \n",
       " 16                              First CornerStone Bank     King of Prussia   \n",
       " 17                                  Trust Company Bank             Memphis   \n",
       " 18                          North Milwaukee State Bank           Milwaukee   \n",
       " 19                              Hometown National Bank            Longview   \n",
       " 20                                 The Bank of Georgia      Peachtree City   \n",
       " 21                                        Premier Bank              Denver   \n",
       " 22                                      Edgebrook Bank             Chicago   \n",
       " 23                              Doral Bank  En Español            San Juan   \n",
       " 24                   Capitol City Bank & Trust Company             Atlanta   \n",
       " 25                             Highland Community Bank             Chicago   \n",
       " 26                    First National Bank of Crestview           Crestview   \n",
       " 27                                  Northern Star Bank             Mankato   \n",
       " 28              Frontier Bank, FSB D/B/A El Paseo Bank         Palm Desert   \n",
       " 29               The National Republic Bank of Chicago             Chicago   \n",
       " ..                                                 ...                 ...   \n",
       " 531                                  ANB Financial, NA         Bentonville   \n",
       " 532                                          Hume Bank                Hume   \n",
       " 533                             Douglass National Bank         Kansas City   \n",
       " 534                                  Miami Valley Bank            Lakeview   \n",
       " 535                                            NetBank          Alpharetta   \n",
       " 536                          Metropolitan Savings Bank          Pittsburgh   \n",
       " 537                                    Bank of Ephraim             Ephraim   \n",
       " 538                                      Reliance Bank        White Plains   \n",
       " 539              Guaranty National Bank of Tallahassee         Tallahassee   \n",
       " 540                                Dollar Savings Bank              Newark   \n",
       " 541                               Pulaski Savings Bank        Philadelphia   \n",
       " 542              First National Bank of Blanchardville      Blanchardville   \n",
       " 543                              Southern Pacific Bank            Torrance   \n",
       " 544                        Farmers Bank of Cheneyville         Cheneyville   \n",
       " 545                                      Bank of Alamo               Alamo   \n",
       " 546             AmTrade International Bank  En Español             Atlanta   \n",
       " 547                     Universal Federal Savings Bank             Chicago   \n",
       " 548                       Connecticut Bank of Commerce            Stamford   \n",
       " 549                                   New Century Bank     Shelby Township   \n",
       " 550                              Net 1st National Bank          Boca Raton   \n",
       " 551                                       NextBank, NA             Phoenix   \n",
       " 552                           Oakwood Deposit Bank Co.             Oakwood   \n",
       " 553                              Bank of Sierra Blanca       Sierra Blanca   \n",
       " 554                      Hamilton Bank, NA  En Español               Miami   \n",
       " 555                             Sinclair National Bank            Gravette   \n",
       " 556                                 Superior Bank, FSB            Hinsdale   \n",
       " 557                                Malta National Bank               Malta   \n",
       " 558                    First Alliance Bank & Trust Co.          Manchester   \n",
       " 559                  National State Bank of Metropolis          Metropolis   \n",
       " 560                                   Bank of Honolulu            Honolulu   \n",
       " \n",
       "      ST   CERT                Acquiring Institution        Closing Date  \n",
       " 0    WV  14361                       MVB Bank, Inc.       April 3, 2020  \n",
       " 1    NE  18265           Farmers and Merchants Bank   February 14, 2020  \n",
       " 2    NJ  21111                      Industrial Bank    November 1, 2019  \n",
       " 3    OH  58317                   Buckeye State Bank    October 25, 2019  \n",
       " 4    KY  58112    Kentucky Farmers Bank Corporation    October 25, 2019  \n",
       " 5    TX  10716                   Legend Bank, N. A.        May 31, 2019  \n",
       " 6    IL  30570                   Royal Savings Bank   December 15, 2017  \n",
       " 7    KS  17719                          Conway Bank    October 13, 2017  \n",
       " 8    IL   1802            United Fidelity Bank, fsb        May 26, 2017  \n",
       " 9    WI  30003  First-Citizens Bank & Trust Company         May 5, 2017  \n",
       " 10   LA  58302                         Whitney Bank      April 28, 2017  \n",
       " 11   UT  35495                    Cache Valley Bank       March 3, 2017  \n",
       " 12   IL  19328                  State Bank of Texas    January 27, 2017  \n",
       " 13   NJ  34951  First-Citizens Bank & Trust Company    January 13, 2017  \n",
       " 14   AR     91                         Today's Bank  September 23, 2016  \n",
       " 15   GA  11297                          United Bank     August 19, 2016  \n",
       " 16   PA  35312  First-Citizens Bank & Trust Company         May 6, 2016  \n",
       " 17   TN   9956           The Bank of Fayette County      April 29, 2016  \n",
       " 18   WI  20364  First-Citizens Bank & Trust Company      March 11, 2016  \n",
       " 19   WA  35156                       Twin City Bank     October 2, 2015  \n",
       " 20   GA  35259                        Fidelity Bank     October 2, 2015  \n",
       " 21   CO  34112            United Fidelity Bank, fsb       July 10, 2015  \n",
       " 22   IL  57772             Republic Bank of Chicago         May 8, 2015  \n",
       " 23   PR  32102         Banco Popular de Puerto Rico   February 27, 2015  \n",
       " 24   GA  33938  First-Citizens Bank & Trust Company   February 13, 2015  \n",
       " 25   IL  20290            United Fidelity Bank, fsb    January 23, 2015  \n",
       " 26   FL  17557                       First NBC Bank    January 16, 2015  \n",
       " 27   MN  34983                            BankVista   December 19, 2014  \n",
       " 28   CA  34738    Bank of Southern California, N.A.    November 7, 2014  \n",
       " 29   IL    916                  State Bank of Texas    October 24, 2014  \n",
       " ..   ..    ...                                  ...                 ...  \n",
       " 531  AR  33901       Pulaski Bank and Trust Company         May 9, 2008  \n",
       " 532  MO   1971                        Security Bank       March 7, 2008  \n",
       " 533  MO  24660       Liberty Bank and Trust Company    January 25, 2008  \n",
       " 534  OH  16848         The Citizens Banking Company     October 4, 2007  \n",
       " 535  GA  32575                           ING DIRECT  September 28, 2007  \n",
       " 536  PA  35353  Allegheny Valley Bank of Pittsburgh    February 2, 2007  \n",
       " 537  UT   1249                        Far West Bank       June 25, 2004  \n",
       " 538  NY  26778                     Union State Bank      March 19, 2004  \n",
       " 539  FL  26838              Hancock Bank of Florida      March 12, 2004  \n",
       " 540  NJ  31330                          No Acquirer   February 14, 2004  \n",
       " 541  PA  27203                       Earthstar Bank   November 14, 2003  \n",
       " 542  WI  11639                        The Park Bank         May 9, 2003  \n",
       " 543  CA  27094                            Beal Bank    February 7, 2003  \n",
       " 544  LA  16445            Sabine State Bank & Trust   December 17, 2002  \n",
       " 545  TN   9961                          No Acquirer    November 8, 2002  \n",
       " 546  GA  33784                          No Acquirer  September 30, 2002  \n",
       " 547  IL  29355               Chicago Community Bank       June 27, 2002  \n",
       " 548  CT  19183                   Hudson United Bank       June 26, 2002  \n",
       " 549  MI  34979                          No Acquirer      March 28, 2002  \n",
       " 550  FL  26652                       Bank Leumi USA       March 1, 2002  \n",
       " 551  AZ  22314                          No Acquirer    February 7, 2002  \n",
       " 552  OH   8966       The State Bank & Trust Company    February 1, 2002  \n",
       " 553  TX  22002     The Security State Bank of Pecos    January 18, 2002  \n",
       " 554  FL  24382     Israel Discount Bank of New York    January 11, 2002  \n",
       " 555  AR  34248                   Delta Trust & Bank   September 7, 2001  \n",
       " 556  IL  32646                Superior Federal, FSB       July 27, 2001  \n",
       " 557  OH   6629                    North Valley Bank         May 3, 2001  \n",
       " 558  NH  34264  Southern New Hampshire Bank & Trust    February 2, 2001  \n",
       " 559  IL   3815              Banterra Bank of Marion   December 14, 2000  \n",
       " 560  HI  21029                   Bank of the Orient    October 13, 2000  \n",
       " \n",
       " [561 rows x 6 columns]]"
      ]
     },
     "execution_count": 10,
     "metadata": {},
     "output_type": "execute_result"
    }
   ],
   "source": [
    "htmldf"
   ]
  },
  {
   "cell_type": "code",
   "execution_count": 11,
   "metadata": {},
   "outputs": [
    {
     "data": {
      "text/plain": [
       "list"
      ]
     },
     "execution_count": 11,
     "metadata": {},
     "output_type": "execute_result"
    }
   ],
   "source": [
    "type(htmldf)"
   ]
  },
  {
   "cell_type": "code",
   "execution_count": 12,
   "metadata": {},
   "outputs": [
    {
     "data": {
      "text/html": [
       "<div>\n",
       "<style>\n",
       "    .dataframe thead tr:only-child th {\n",
       "        text-align: right;\n",
       "    }\n",
       "\n",
       "    .dataframe thead th {\n",
       "        text-align: left;\n",
       "    }\n",
       "\n",
       "    .dataframe tbody tr th {\n",
       "        vertical-align: top;\n",
       "    }\n",
       "</style>\n",
       "<table border=\"1\" class=\"dataframe\">\n",
       "  <thead>\n",
       "    <tr style=\"text-align: right;\">\n",
       "      <th></th>\n",
       "      <th>Bank Name</th>\n",
       "      <th>City</th>\n",
       "      <th>ST</th>\n",
       "      <th>CERT</th>\n",
       "      <th>Acquiring Institution</th>\n",
       "      <th>Closing Date</th>\n",
       "    </tr>\n",
       "  </thead>\n",
       "  <tbody>\n",
       "    <tr>\n",
       "      <th>0</th>\n",
       "      <td>The First State Bank</td>\n",
       "      <td>Barboursville</td>\n",
       "      <td>WV</td>\n",
       "      <td>14361</td>\n",
       "      <td>MVB Bank, Inc.</td>\n",
       "      <td>April 3, 2020</td>\n",
       "    </tr>\n",
       "    <tr>\n",
       "      <th>1</th>\n",
       "      <td>Ericson State Bank</td>\n",
       "      <td>Ericson</td>\n",
       "      <td>NE</td>\n",
       "      <td>18265</td>\n",
       "      <td>Farmers and Merchants Bank</td>\n",
       "      <td>February 14, 2020</td>\n",
       "    </tr>\n",
       "    <tr>\n",
       "      <th>2</th>\n",
       "      <td>City National Bank of New Jersey</td>\n",
       "      <td>Newark</td>\n",
       "      <td>NJ</td>\n",
       "      <td>21111</td>\n",
       "      <td>Industrial Bank</td>\n",
       "      <td>November 1, 2019</td>\n",
       "    </tr>\n",
       "    <tr>\n",
       "      <th>3</th>\n",
       "      <td>Resolute Bank</td>\n",
       "      <td>Maumee</td>\n",
       "      <td>OH</td>\n",
       "      <td>58317</td>\n",
       "      <td>Buckeye State Bank</td>\n",
       "      <td>October 25, 2019</td>\n",
       "    </tr>\n",
       "    <tr>\n",
       "      <th>4</th>\n",
       "      <td>Louisa Community Bank</td>\n",
       "      <td>Louisa</td>\n",
       "      <td>KY</td>\n",
       "      <td>58112</td>\n",
       "      <td>Kentucky Farmers Bank Corporation</td>\n",
       "      <td>October 25, 2019</td>\n",
       "    </tr>\n",
       "  </tbody>\n",
       "</table>\n",
       "</div>"
      ],
      "text/plain": [
       "                          Bank Name           City  ST   CERT  \\\n",
       "0              The First State Bank  Barboursville  WV  14361   \n",
       "1                Ericson State Bank        Ericson  NE  18265   \n",
       "2  City National Bank of New Jersey         Newark  NJ  21111   \n",
       "3                     Resolute Bank         Maumee  OH  58317   \n",
       "4             Louisa Community Bank         Louisa  KY  58112   \n",
       "\n",
       "               Acquiring Institution       Closing Date  \n",
       "0                     MVB Bank, Inc.      April 3, 2020  \n",
       "1         Farmers and Merchants Bank  February 14, 2020  \n",
       "2                    Industrial Bank   November 1, 2019  \n",
       "3                 Buckeye State Bank   October 25, 2019  \n",
       "4  Kentucky Farmers Bank Corporation   October 25, 2019  "
      ]
     },
     "execution_count": 12,
     "metadata": {},
     "output_type": "execute_result"
    }
   ],
   "source": [
    "htmldf[0].head()"
   ]
  },
  {
   "cell_type": "code",
   "execution_count": null,
   "metadata": {
    "collapsed": true
   },
   "outputs": [],
   "source": []
  }
 ],
 "metadata": {
  "kernelspec": {
   "display_name": "Python 3",
   "language": "python",
   "name": "python3"
  },
  "language_info": {
   "codemirror_mode": {
    "name": "ipython",
    "version": 3
   },
   "file_extension": ".py",
   "mimetype": "text/x-python",
   "name": "python",
   "nbconvert_exporter": "python",
   "pygments_lexer": "ipython3",
   "version": "3.6.2"
  }
 },
 "nbformat": 4,
 "nbformat_minor": 2
}
